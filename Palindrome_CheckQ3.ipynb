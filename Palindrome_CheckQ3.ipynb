{
  "nbformat": 4,
  "nbformat_minor": 0,
  "metadata": {
    "colab": {
      "provenance": []
    },
    "kernelspec": {
      "name": "python3",
      "display_name": "Python 3"
    },
    "language_info": {
      "name": "python"
    }
  },
  "cells": [
    {
      "cell_type": "markdown",
      "source": [],
      "metadata": {
        "id": "GOrYWJKNj7lm"
      }
    },
    {
      "cell_type": "code",
      "source": [
        "string = input(\"enter the string \").lower()\n",
        "if string == string[::-1]:\n",
        "  print(f\"{string} is palindrome\")\n",
        "else:\n",
        "   print(f\"{string} is not palindrome\")\n",
        "\n",
        "# -----------------------------------------------------\n",
        "strt=0\n",
        "end =len(string)-1\n",
        "while strt<=end:\n",
        "  if string[strt]!=string[end]:\n",
        "    print(\"no palindrome\")\n",
        "    break;\n",
        "  strt += 1\n",
        "  end -= 1\n",
        "else:\n",
        "  print(\"palindrome\")\n"
      ],
      "metadata": {
        "colab": {
          "base_uri": "https://localhost:8080/"
        },
        "id": "gJzunps4OThb",
        "outputId": "63219e17-a1a6-446c-954a-8f8e6b9d8af9"
      },
      "execution_count": null,
      "outputs": [
        {
          "output_type": "stream",
          "name": "stdout",
          "text": [
            "enter the string mom\n",
            "mom is palindrome\n",
            "palindrome\n"
          ]
        }
      ]
    },
    {
      "cell_type": "code",
      "source": [
        "def ispalindrome(string):\n",
        "  if string == string[::-1]:\n",
        "    return \"palindrome\"\n",
        "  else:\n",
        "    return \"not palindrome\"\n",
        "\n",
        "string = input(\"enter a string \").lower()\n",
        "ispalindrome(string)\n"
      ],
      "metadata": {
        "colab": {
          "base_uri": "https://localhost:8080/",
          "height": 53
        },
        "id": "kVTwOKM4x78S",
        "outputId": "e1c2950e-b069-4f57-de49-5d292c5e1575"
      },
      "execution_count": 14,
      "outputs": [
        {
          "name": "stdout",
          "output_type": "stream",
          "text": [
            "enter a string racecar\n"
          ]
        },
        {
          "output_type": "execute_result",
          "data": {
            "text/plain": [
              "'palindrome'"
            ],
            "application/vnd.google.colaboratory.intrinsic+json": {
              "type": "string"
            }
          },
          "metadata": {},
          "execution_count": 14
        }
      ]
    },
    {
      "cell_type": "code",
      "source": [
        "class Palindrome:\n",
        "  def __init__(self,string):\n",
        "    self.string = string\n",
        "\n",
        "  def  ispalindrome(self):\n",
        "    left=0\n",
        "    end=len(self.string)-1\n",
        "    while left<end:\n",
        "      if self.string[left] != self.string[end]:\n",
        "        return \"no palindrome\"\n",
        "      left +=1\n",
        "      end -=1\n",
        "    return \"palindrome\"\n",
        "\n",
        "user_str= input(\"enter a string \").lower()\n",
        "obj = Palindrome(user_str)\n",
        "obj.ispalindrome()\n",
        "\n",
        "\n",
        "\n",
        "\n"
      ],
      "metadata": {
        "colab": {
          "base_uri": "https://localhost:8080/",
          "height": 53
        },
        "id": "tzHl12uBdE8h",
        "outputId": "f0541118-a854-45dc-9e64-68d8114e6d1f"
      },
      "execution_count": 12,
      "outputs": [
        {
          "name": "stdout",
          "output_type": "stream",
          "text": [
            "enter a string Mam\n"
          ]
        },
        {
          "output_type": "execute_result",
          "data": {
            "text/plain": [
              "'palindrome'"
            ],
            "application/vnd.google.colaboratory.intrinsic+json": {
              "type": "string"
            }
          },
          "metadata": {},
          "execution_count": 12
        }
      ]
    },
    {
      "cell_type": "code",
      "source": [],
      "metadata": {
        "id": "XKGjoOdxZ_8e"
      },
      "execution_count": null,
      "outputs": []
    }
  ]
}