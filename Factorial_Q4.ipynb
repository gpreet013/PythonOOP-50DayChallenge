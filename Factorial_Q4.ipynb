{
  "nbformat": 4,
  "nbformat_minor": 0,
  "metadata": {
    "colab": {
      "provenance": []
    },
    "kernelspec": {
      "name": "python3",
      "display_name": "Python 3"
    },
    "language_info": {
      "name": "python"
    }
  },
  "cells": [
    {
      "cell_type": "code",
      "execution_count": 7,
      "metadata": {
        "colab": {
          "base_uri": "https://localhost:8080/"
        },
        "id": "82RxmjffldHj",
        "outputId": "75f88fce-2d84-4289-8374-e1afb4fe835b"
      },
      "outputs": [
        {
          "output_type": "stream",
          "name": "stdout",
          "text": [
            "Enter a number 5\n",
            "5 factorial is 120\n"
          ]
        }
      ],
      "source": [
        "fact = int(input(\"Enter a number \"))\n",
        "num1=fact\n",
        "num2=num1-1\n",
        "while num2>0:\n",
        "  num1 *= num2\n",
        "  num2 -= 1\n",
        "print(f\"{fact} factorial is {num1}\")"
      ]
    },
    {
      "cell_type": "code",
      "source": [
        "def fact(num):\n",
        "  if num < 0:\n",
        "    return \"given number is negative number\"\n",
        "  elif num == 0 or num ==1:\n",
        "    return 1\n",
        "  else:\n",
        "      res=1\n",
        "      while num > 1:\n",
        "        res*=num\n",
        "        num -=1\n",
        "  return res\n",
        "\n",
        "num = int(input(\"enter a number \"))\n",
        "print(fact(num))\n",
        "\n",
        "\n",
        "\n",
        "\n",
        "\n",
        "\n"
      ],
      "metadata": {
        "colab": {
          "base_uri": "https://localhost:8080/"
        },
        "id": "xgwSucTDrsCk",
        "outputId": "8077e3ba-368e-438c-fdcc-9cd8060169b7"
      },
      "execution_count": 23,
      "outputs": [
        {
          "output_type": "stream",
          "name": "stdout",
          "text": [
            "enter a number 5\n",
            "120\n"
          ]
        }
      ]
    },
    {
      "cell_type": "code",
      "source": [
        "class fact:\n",
        "  def __init__(self,num):\n",
        "    self.num=num\n",
        "\n",
        "  def fact_calc(self):\n",
        "    if self.num < 0:\n",
        "      return \"given number is negative number\"\n",
        "    elif self.num == 0 or self.num ==1:\n",
        "      return 1\n",
        "    else:\n",
        "        res=1\n",
        "        while self.num > 1:\n",
        "          res*=self.num\n",
        "          self.num -=1\n",
        "        return res\n",
        "\n",
        "num= int(input(\"enter a number \"))\n",
        "obj=fact(num)\n",
        "obj.fact_calc()\n"
      ],
      "metadata": {
        "colab": {
          "base_uri": "https://localhost:8080/",
          "height": 53
        },
        "id": "Dh8qAHoZEs_q",
        "outputId": "23c70a82-8d32-4e7a-cc75-2b67c0f93a0c"
      },
      "execution_count": 28,
      "outputs": [
        {
          "name": "stdout",
          "output_type": "stream",
          "text": [
            "enter a number -6\n"
          ]
        },
        {
          "output_type": "execute_result",
          "data": {
            "text/plain": [
              "'given number is negative number'"
            ],
            "application/vnd.google.colaboratory.intrinsic+json": {
              "type": "string"
            }
          },
          "metadata": {},
          "execution_count": 28
        }
      ]
    },
    {
      "cell_type": "code",
      "source": [],
      "metadata": {
        "id": "VWBUJqhKr533"
      },
      "execution_count": null,
      "outputs": []
    }
  ]
}