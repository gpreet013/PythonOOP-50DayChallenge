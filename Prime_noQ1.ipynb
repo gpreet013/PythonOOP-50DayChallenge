{
  "nbformat": 4,
  "nbformat_minor": 0,
  "metadata": {
    "colab": {
      "provenance": []
    },
    "kernelspec": {
      "name": "python3",
      "display_name": "Python 3"
    },
    "language_info": {
      "name": "python"
    }
  },
  "cells": [
    {
      "cell_type": "code",
      "execution_count": 10,
      "metadata": {
        "colab": {
          "base_uri": "https://localhost:8080/"
        },
        "id": "wOp6pU9hqXUd",
        "outputId": "82c2ad35-ac6b-45bb-e5dc-d918488a05d3"
      },
      "outputs": [
        {
          "output_type": "stream",
          "name": "stdout",
          "text": [
            "Enter a number 0\n",
            "Zero is neither a prime nor a composite number\n"
          ]
        }
      ],
      "source": [
        "# prime number simple\n",
        "num=int(input(\"Enter a number \"))\n",
        "if num==0 :\n",
        "  print(f\"Zero is neither a prime nor a composite number\")\n",
        "elif num==1:\n",
        "  print(f'{num} is not prime number')\n",
        "elif num > 1:\n",
        "  for i in range(2,num) :\n",
        "    if num%i==0:\n",
        "      print(f\"{num} is not a Prime number\")\n",
        "      break\n",
        "  else:\n",
        "    print(f\"{num} is prime number\")"
      ]
    },
    {
      "cell_type": "code",
      "source": [
        "# prime number using function\n",
        "def is_prime_no(num):\n",
        "  if num==0 :\n",
        "    return \"Zero is neither a prime nor a composite number\"\n",
        "    # print(f\"Zero is neither a prime nor a composite number\")\n",
        "  elif num==1:\n",
        "    # print(f'{num} is not prime number')\n",
        "    return f'{num} is not prime number'\n",
        "  elif num > 1:\n",
        "     for i in range(2,num) :\n",
        "      if num%i==0:\n",
        "        # print(f\"{num} is not a Prime number\")\n",
        "        return (f'{num} is not prime number')\n",
        "        break\n",
        "     else:\n",
        "      return (f'{num} not prime number')\n",
        "      #  print(f\"{num} is prime number\")\n",
        "num=int(input(\"Enter a number \"))\n",
        "is_prime_no(num)"
      ],
      "metadata": {
        "colab": {
          "base_uri": "https://localhost:8080/",
          "height": 53
        },
        "id": "nWIZHKmWDs6R",
        "outputId": "782a212b-63d2-4abd-da2e-15062f269143"
      },
      "execution_count": 3,
      "outputs": [
        {
          "name": "stdout",
          "output_type": "stream",
          "text": [
            "Enter a number 68\n"
          ]
        },
        {
          "output_type": "execute_result",
          "data": {
            "text/plain": [
              "'68 is not prime number'"
            ],
            "application/vnd.google.colaboratory.intrinsic+json": {
              "type": "string"
            }
          },
          "metadata": {},
          "execution_count": 3
        }
      ]
    },
    {
      "cell_type": "code",
      "source": [
        "# prime number oops\n",
        "import math\n",
        "class Prime:\n",
        "  def __init__(self,num):\n",
        "    self.num=num\n",
        "\n",
        "  def isprime(self):\n",
        "    if self.num == 0 and self.num == 1:\n",
        "      return 'is not prime number'\n",
        "    elif num > 1:\n",
        "      for i in range(2,round(math.sqrt(self.num))+1):\n",
        "        if self.num%i==0:\n",
        "          return \"Not prime number\"\n",
        "      else:\n",
        "        return \"prime number\"\n",
        "\n",
        "if __name__ == '__main__':\n",
        "  user_num=int(input(\"enter a number\"))\n",
        "  obj=Prime(user_num)\n",
        "  print(obj.isprime())\n",
        "\n"
      ],
      "metadata": {
        "colab": {
          "base_uri": "https://localhost:8080/"
        },
        "id": "Kg0LGPh9NzZQ",
        "outputId": "73e713e6-e2e4-47fd-ae84-2981b2ffa605"
      },
      "execution_count": 12,
      "outputs": [
        {
          "output_type": "stream",
          "name": "stdout",
          "text": [
            "enter a number78\n",
            "not prime number\n"
          ]
        }
      ]
    },
    {
      "cell_type": "code",
      "source": [
        "import math\n",
        "class Prime:\n",
        "\n",
        "  def __init__(self):\n",
        "    pass\n",
        "\n",
        "  def isprime(self,num):\n",
        "    if num == 0 and num == 1:\n",
        "      return \"num is not prime\"\n",
        "    elif num > 1:\n",
        "      for i in range(2,round(math.sqrt(num))+1):\n",
        "        if num%i==0:\n",
        "          return \"number is not prime\"\n",
        "      else:\n",
        "        return \"number is prime\"\n",
        "\n",
        "if __name__=='__main__':\n",
        "  user_num=int(input(\"enter a number\"))\n",
        "  obj2=Prime()\n",
        "  print(obj2.isprime(user_num))"
      ],
      "metadata": {
        "colab": {
          "base_uri": "https://localhost:8080/"
        },
        "id": "WIMdCJtfvj9U",
        "outputId": "072fab6b-d3f9-4d42-fc5f-5de4da667e3a"
      },
      "execution_count": 15,
      "outputs": [
        {
          "output_type": "stream",
          "name": "stdout",
          "text": [
            "enter a number71\n",
            "number is prime\n"
          ]
        }
      ]
    },
    {
      "cell_type": "code",
      "source": [
        "\n"
      ],
      "metadata": {
        "id": "lLiOlgRrH9vn"
      },
      "execution_count": null,
      "outputs": []
    },
    {
      "cell_type": "markdown",
      "source": [
        "2. Reverse the string using for loop.\n"
      ],
      "metadata": {
        "id": "6W_SkeZRy52M"
      }
    },
    {
      "cell_type": "code",
      "source": [
        "# using for loop(simple)\n",
        "#using indexing\n"
      ],
      "metadata": {
        "id": "w6CBsqvfzB57"
      },
      "execution_count": null,
      "outputs": []
    }
  ]
}