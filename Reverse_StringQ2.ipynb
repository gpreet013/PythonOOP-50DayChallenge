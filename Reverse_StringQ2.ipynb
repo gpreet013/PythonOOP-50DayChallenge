{
  "nbformat": 4,
  "nbformat_minor": 0,
  "metadata": {
    "colab": {
      "provenance": []
    },
    "kernelspec": {
      "name": "python3",
      "display_name": "Python 3"
    },
    "language_info": {
      "name": "python"
    }
  },
  "cells": [
    {
      "cell_type": "markdown",
      "source": [
        "2. Reverse the string using for loop."
      ],
      "metadata": {
        "id": "MsTijr9rGf3Q"
      }
    },
    {
      "cell_type": "code",
      "source": [
        "# using for loop\n",
        "string = input(\"Enter a string : \")\n",
        "reverse_str = \"\"\n",
        "for char in string:\n",
        "  reverse_str = char + reverse_str\n",
        "print(f\"{reverse_str} - using for loop \")\n",
        "\n",
        "# using indexing\n",
        "rev=string[: : -1]\n",
        "print(f'{rev} - using indexing method')\n"
      ],
      "metadata": {
        "colab": {
          "base_uri": "https://localhost:8080/"
        },
        "id": "w86LziWFGlg4",
        "outputId": "55dc73a7-9ec8-47a2-a0ba-ff7af8fa23e7"
      },
      "execution_count": 6,
      "outputs": [
        {
          "output_type": "stream",
          "name": "stdout",
          "text": [
            "Enter a string : gurpreet\n",
            "teerprug - using for loop \n",
            "teerprug - using indexing method\n"
          ]
        }
      ]
    },
    {
      "cell_type": "code",
      "source": [
        "def rev_string(string):\n",
        "  rev_string=\" \"\n",
        "  for char in string:\n",
        "    rev_string=char+rev_string\n",
        "  return rev_string\n",
        "\n",
        "string=input(\"Enter a string : \")\n",
        "print(rev_string(string))"
      ],
      "metadata": {
        "colab": {
          "base_uri": "https://localhost:8080/"
        },
        "id": "yR0M_enxUPge",
        "outputId": "746bcdf0-1fd0-47d6-ef4a-59ef4e52c1a3"
      },
      "execution_count": 2,
      "outputs": [
        {
          "output_type": "stream",
          "name": "stdout",
          "text": [
            "Enter a string : gold\n",
            "dlog \n"
          ]
        }
      ]
    },
    {
      "cell_type": "code",
      "source": [
        "class Reverse_string:\n",
        "  def __init__ (self,string):\n",
        "    self.string=string\n",
        "  def string_reversing(self):\n",
        "    rev_string=\"\"\n",
        "    for char in self.string:\n",
        "      rev_string=char+rev_string\n",
        "    return rev_string\n",
        "\n",
        "user_string= input(\"enter a string \")\n",
        "obj1=Reverse_string(user_string)\n",
        "print(obj1.string_reversing())"
      ],
      "metadata": {
        "colab": {
          "base_uri": "https://localhost:8080/"
        },
        "id": "ifsSCC4lG-MN",
        "outputId": "fb966dae-487a-4289-a130-3fe597a3ba22"
      },
      "execution_count": 9,
      "outputs": [
        {
          "output_type": "stream",
          "name": "stdout",
          "text": [
            "enter a string naina\n",
            "anian\n"
          ]
        }
      ]
    },
    {
      "cell_type": "code",
      "source": [],
      "metadata": {
        "id": "VAnU6pmdGxuA"
      },
      "execution_count": null,
      "outputs": []
    }
  ]
}